{
 "cells": [
  {
   "cell_type": "code",
   "execution_count": 1,
   "id": "e83ae88b",
   "metadata": {},
   "outputs": [],
   "source": [
    "import numpy as np\n",
    "import pandas as pd\n",
    "import matplotlib.pyplot as plt\n",
    "import matplotlib.pyplot as plt\n",
    "import statsmodels.api as sm"
   ]
  },
  {
   "cell_type": "code",
   "execution_count": 2,
   "id": "69143301",
   "metadata": {},
   "outputs": [
    {
     "name": "stderr",
     "output_type": "stream",
     "text": [
      "C:\\Users\\ahmed\\AppData\\Local\\Temp\\ipykernel_34136\\3314575776.py:8: FutureWarning: DataFrame.interpolate with object dtype is deprecated and will raise in a future version. Call obj.infer_objects(copy=False) before interpolating instead.\n",
      "  ice.interpolate(inplace=True)\n"
     ]
    }
   ],
   "source": [
    "csv = [pd.read_csv(f\"./data/N_{str(i).zfill(2)}_extent_v3.0.csv\") for i in range(1, 13)]\n",
    "ice = pd.concat(csv, axis=0, ignore_index=True)\n",
    "columns = ice.columns\n",
    "name = [col.strip() for col in columns]\n",
    "ice.columns = name\n",
    "ice['extent'] = np.where(abs(ice['extent']) > 20 , np.nan, ice['extent'])\n",
    "ice['area'] = np.where(abs(ice['area']) > 20, np.nan, ice['area'])\n",
    "ice.interpolate(inplace=True)"
   ]
  },
  {
   "cell_type": "markdown",
   "id": "29cbc208",
   "metadata": {},
   "source": [
    "## monthly graph"
   ]
  },
  {
   "cell_type": "code",
   "execution_count": 111,
   "id": "1de2743c",
   "metadata": {},
   "outputs": [
    {
     "data": {
      "text/html": [
       "<div>\n",
       "<style scoped>\n",
       "    .dataframe tbody tr th:only-of-type {\n",
       "        vertical-align: middle;\n",
       "    }\n",
       "\n",
       "    .dataframe tbody tr th {\n",
       "        vertical-align: top;\n",
       "    }\n",
       "\n",
       "    .dataframe thead th {\n",
       "        text-align: right;\n",
       "    }\n",
       "</style>\n",
       "<table border=\"1\" class=\"dataframe\">\n",
       "  <thead>\n",
       "    <tr style=\"text-align: right;\">\n",
       "      <th></th>\n",
       "      <th>year</th>\n",
       "      <th>mo</th>\n",
       "      <th>data-type</th>\n",
       "      <th>region</th>\n",
       "      <th>extent</th>\n",
       "      <th>area</th>\n",
       "      <th>label</th>\n",
       "    </tr>\n",
       "  </thead>\n",
       "  <tbody>\n",
       "    <tr>\n",
       "      <th>42</th>\n",
       "      <td>2021</td>\n",
       "      <td>1</td>\n",
       "      <td>Goddard</td>\n",
       "      <td>N</td>\n",
       "      <td>13.50</td>\n",
       "      <td>11.75</td>\n",
       "      <td>Jan 2021</td>\n",
       "    </tr>\n",
       "    <tr>\n",
       "      <th>87</th>\n",
       "      <td>2021</td>\n",
       "      <td>2</td>\n",
       "      <td>Goddard</td>\n",
       "      <td>N</td>\n",
       "      <td>14.39</td>\n",
       "      <td>12.76</td>\n",
       "      <td>Feb 2021</td>\n",
       "    </tr>\n",
       "    <tr>\n",
       "      <th>132</th>\n",
       "      <td>2021</td>\n",
       "      <td>3</td>\n",
       "      <td>Goddard</td>\n",
       "      <td>N</td>\n",
       "      <td>14.66</td>\n",
       "      <td>12.99</td>\n",
       "      <td>Mar 2021</td>\n",
       "    </tr>\n",
       "    <tr>\n",
       "      <th>177</th>\n",
       "      <td>2021</td>\n",
       "      <td>4</td>\n",
       "      <td>Goddard</td>\n",
       "      <td>N</td>\n",
       "      <td>13.79</td>\n",
       "      <td>12.18</td>\n",
       "      <td>Apr 2021</td>\n",
       "    </tr>\n",
       "    <tr>\n",
       "      <th>222</th>\n",
       "      <td>2021</td>\n",
       "      <td>5</td>\n",
       "      <td>Goddard</td>\n",
       "      <td>N</td>\n",
       "      <td>12.68</td>\n",
       "      <td>10.86</td>\n",
       "      <td>May 2021</td>\n",
       "    </tr>\n",
       "    <tr>\n",
       "      <th>267</th>\n",
       "      <td>2021</td>\n",
       "      <td>6</td>\n",
       "      <td>Goddard</td>\n",
       "      <td>N</td>\n",
       "      <td>10.77</td>\n",
       "      <td>8.39</td>\n",
       "      <td>Jun 2021</td>\n",
       "    </tr>\n",
       "    <tr>\n",
       "      <th>312</th>\n",
       "      <td>2021</td>\n",
       "      <td>7</td>\n",
       "      <td>Goddard</td>\n",
       "      <td>N</td>\n",
       "      <td>7.65</td>\n",
       "      <td>5.53</td>\n",
       "      <td>Jul 2021</td>\n",
       "    </tr>\n",
       "    <tr>\n",
       "      <th>357</th>\n",
       "      <td>2021</td>\n",
       "      <td>8</td>\n",
       "      <td>Goddard</td>\n",
       "      <td>N</td>\n",
       "      <td>5.71</td>\n",
       "      <td>3.78</td>\n",
       "      <td>Aug 2021</td>\n",
       "    </tr>\n",
       "    <tr>\n",
       "      <th>402</th>\n",
       "      <td>2021</td>\n",
       "      <td>9</td>\n",
       "      <td>Goddard</td>\n",
       "      <td>N</td>\n",
       "      <td>4.95</td>\n",
       "      <td>3.47</td>\n",
       "      <td>Sep 2021</td>\n",
       "    </tr>\n",
       "    <tr>\n",
       "      <th>447</th>\n",
       "      <td>2021</td>\n",
       "      <td>10</td>\n",
       "      <td>Goddard</td>\n",
       "      <td>N</td>\n",
       "      <td>6.82</td>\n",
       "      <td>5.43</td>\n",
       "      <td>Oct 2021</td>\n",
       "    </tr>\n",
       "    <tr>\n",
       "      <th>493</th>\n",
       "      <td>2021</td>\n",
       "      <td>11</td>\n",
       "      <td>Goddard</td>\n",
       "      <td>N</td>\n",
       "      <td>9.83</td>\n",
       "      <td>8.57</td>\n",
       "      <td>Nov 2021</td>\n",
       "    </tr>\n",
       "    <tr>\n",
       "      <th>539</th>\n",
       "      <td>2021</td>\n",
       "      <td>12</td>\n",
       "      <td>Goddard</td>\n",
       "      <td>N</td>\n",
       "      <td>12.15</td>\n",
       "      <td>10.74</td>\n",
       "      <td>Dec 2021</td>\n",
       "    </tr>\n",
       "    <tr>\n",
       "      <th>43</th>\n",
       "      <td>2022</td>\n",
       "      <td>1</td>\n",
       "      <td>Goddard</td>\n",
       "      <td>N</td>\n",
       "      <td>13.87</td>\n",
       "      <td>12.26</td>\n",
       "      <td>Jan 2022</td>\n",
       "    </tr>\n",
       "    <tr>\n",
       "      <th>88</th>\n",
       "      <td>2022</td>\n",
       "      <td>2</td>\n",
       "      <td>Goddard</td>\n",
       "      <td>N</td>\n",
       "      <td>14.61</td>\n",
       "      <td>12.90</td>\n",
       "      <td>Feb 2022</td>\n",
       "    </tr>\n",
       "    <tr>\n",
       "      <th>133</th>\n",
       "      <td>2022</td>\n",
       "      <td>3</td>\n",
       "      <td>Goddard</td>\n",
       "      <td>N</td>\n",
       "      <td>14.59</td>\n",
       "      <td>12.80</td>\n",
       "      <td>Mar 2022</td>\n",
       "    </tr>\n",
       "    <tr>\n",
       "      <th>178</th>\n",
       "      <td>2022</td>\n",
       "      <td>4</td>\n",
       "      <td>Goddard</td>\n",
       "      <td>N</td>\n",
       "      <td>13.99</td>\n",
       "      <td>12.46</td>\n",
       "      <td>Apr 2022</td>\n",
       "    </tr>\n",
       "    <tr>\n",
       "      <th>223</th>\n",
       "      <td>2022</td>\n",
       "      <td>5</td>\n",
       "      <td>Goddard</td>\n",
       "      <td>N</td>\n",
       "      <td>12.88</td>\n",
       "      <td>11.10</td>\n",
       "      <td>May 2022</td>\n",
       "    </tr>\n",
       "    <tr>\n",
       "      <th>268</th>\n",
       "      <td>2022</td>\n",
       "      <td>6</td>\n",
       "      <td>Goddard</td>\n",
       "      <td>N</td>\n",
       "      <td>10.88</td>\n",
       "      <td>8.61</td>\n",
       "      <td>Jun 2022</td>\n",
       "    </tr>\n",
       "    <tr>\n",
       "      <th>313</th>\n",
       "      <td>2022</td>\n",
       "      <td>7</td>\n",
       "      <td>Goddard</td>\n",
       "      <td>N</td>\n",
       "      <td>8.29</td>\n",
       "      <td>5.89</td>\n",
       "      <td>Jul 2022</td>\n",
       "    </tr>\n",
       "    <tr>\n",
       "      <th>358</th>\n",
       "      <td>2022</td>\n",
       "      <td>8</td>\n",
       "      <td>Goddard</td>\n",
       "      <td>N</td>\n",
       "      <td>5.95</td>\n",
       "      <td>4.03</td>\n",
       "      <td>Aug 2022</td>\n",
       "    </tr>\n",
       "    <tr>\n",
       "      <th>403</th>\n",
       "      <td>2022</td>\n",
       "      <td>9</td>\n",
       "      <td>Goddard</td>\n",
       "      <td>N</td>\n",
       "      <td>4.90</td>\n",
       "      <td>3.47</td>\n",
       "      <td>Sep 2022</td>\n",
       "    </tr>\n",
       "    <tr>\n",
       "      <th>448</th>\n",
       "      <td>2022</td>\n",
       "      <td>10</td>\n",
       "      <td>Goddard</td>\n",
       "      <td>N</td>\n",
       "      <td>6.66</td>\n",
       "      <td>5.25</td>\n",
       "      <td>Oct 2022</td>\n",
       "    </tr>\n",
       "    <tr>\n",
       "      <th>494</th>\n",
       "      <td>2022</td>\n",
       "      <td>11</td>\n",
       "      <td>Goddard</td>\n",
       "      <td>N</td>\n",
       "      <td>9.73</td>\n",
       "      <td>8.52</td>\n",
       "      <td>Nov 2022</td>\n",
       "    </tr>\n",
       "    <tr>\n",
       "      <th>540</th>\n",
       "      <td>2022</td>\n",
       "      <td>12</td>\n",
       "      <td>Goddard</td>\n",
       "      <td>N</td>\n",
       "      <td>11.89</td>\n",
       "      <td>10.27</td>\n",
       "      <td>Dec 2022</td>\n",
       "    </tr>\n",
       "  </tbody>\n",
       "</table>\n",
       "</div>"
      ],
      "text/plain": [
       "     year  mo      data-type   region  extent   area     label\n",
       "42   2021   1        Goddard        N   13.50  11.75  Jan 2021\n",
       "87   2021   2        Goddard        N   14.39  12.76  Feb 2021\n",
       "132  2021   3        Goddard        N   14.66  12.99  Mar 2021\n",
       "177  2021   4        Goddard        N   13.79  12.18  Apr 2021\n",
       "222  2021   5        Goddard        N   12.68  10.86  May 2021\n",
       "267  2021   6        Goddard        N   10.77   8.39  Jun 2021\n",
       "312  2021   7        Goddard        N    7.65   5.53  Jul 2021\n",
       "357  2021   8        Goddard        N    5.71   3.78  Aug 2021\n",
       "402  2021   9        Goddard        N    4.95   3.47  Sep 2021\n",
       "447  2021  10        Goddard        N    6.82   5.43  Oct 2021\n",
       "493  2021  11        Goddard        N    9.83   8.57  Nov 2021\n",
       "539  2021  12        Goddard        N   12.15  10.74  Dec 2021\n",
       "43   2022   1        Goddard        N   13.87  12.26  Jan 2022\n",
       "88   2022   2        Goddard        N   14.61  12.90  Feb 2022\n",
       "133  2022   3        Goddard        N   14.59  12.80  Mar 2022\n",
       "178  2022   4        Goddard        N   13.99  12.46  Apr 2022\n",
       "223  2022   5        Goddard        N   12.88  11.10  May 2022\n",
       "268  2022   6        Goddard        N   10.88   8.61  Jun 2022\n",
       "313  2022   7        Goddard        N    8.29   5.89  Jul 2022\n",
       "358  2022   8        Goddard        N    5.95   4.03  Aug 2022\n",
       "403  2022   9        Goddard        N    4.90   3.47  Sep 2022\n",
       "448  2022  10        Goddard        N    6.66   5.25  Oct 2022\n",
       "494  2022  11        Goddard        N    9.73   8.52  Nov 2022\n",
       "540  2022  12        Goddard        N   11.89  10.27  Dec 2022"
      ]
     },
     "execution_count": 111,
     "metadata": {},
     "output_type": "execute_result"
    }
   ],
   "source": [
    "filtered_df = ice[(ice['year'] == 2021) | (ice['year'] == 2022)]\n",
    "sorted_df = filtered_df.sort_values(by=['year', 'mo'])\n",
    "\n",
    "months = [\"Jan\", \"Feb\", \"Mar\", \"Apr\", \"May\", \"Jun\", \"Jul\", \"Aug\", \"Sep\", \"Oct\", \"Nov\", \"Dec\"]\n",
    "years = [\"2021\", \"2022\"]\n",
    "\n",
    "# Create an array of strings using a list comprehension\n",
    "date_strings = [f\"{month} {year}\" for year in years for month in months]\n",
    "\n",
    "# Convert the list to a NumPy array\n",
    "np_array_of_strings = np.array(date_strings)\n",
    "\n",
    "sorted_df[\"label\"] = np_array_of_strings\n",
    "\n",
    "sorted_df"
   ]
  },
  {
   "cell_type": "code",
   "execution_count": 112,
   "id": "f7553ca8",
   "metadata": {},
   "outputs": [
    {
     "data": {
      "text/plain": [
       "24"
      ]
     },
     "execution_count": 112,
     "metadata": {},
     "output_type": "execute_result"
    }
   ],
   "source": [
    "\n",
    "len(sorted_df)"
   ]
  },
  {
   "cell_type": "code",
   "execution_count": 116,
   "id": "f37b100b",
   "metadata": {},
   "outputs": [
    {
     "data": {
      "image/png": "[encoded data removed]",
      "text/plain": [
       "<Figure size 640x480 with 1 Axes>"
      ]
     },
     "metadata": {},
     "output_type": "display_data"
    }
   ],
   "source": [
    "plt.plot(sorted_df['label'], sorted_df['extent'])\n",
    "\n",
    "plt.xticks([0, 5, 11, 17, 23], sorted_df['label'].iloc[[0, 5, 11, 17, 23]])\n",
    "plt.ylabel(\"million square km\")\n",
    "plt.show()"
   ]
  },
  {
   "cell_type": "code",
   "execution_count": 3,
   "id": "2288ce2b",
   "metadata": {},
   "outputs": [
    {
     "data": {
      "text/html": [
       "<div>\n",
       "<style scoped>\n",
       "    .dataframe tbody tr th:only-of-type {\n",
       "        vertical-align: middle;\n",
       "    }\n",
       "\n",
       "    .dataframe tbody tr th {\n",
       "        vertical-align: top;\n",
       "    }\n",
       "\n",
       "    .dataframe thead th {\n",
       "        text-align: right;\n",
       "    }\n",
       "</style>\n",
       "<table border=\"1\" class=\"dataframe\">\n",
       "  <thead>\n",
       "    <tr style=\"text-align: right;\">\n",
       "      <th></th>\n",
       "      <th>year</th>\n",
       "      <th>extent</th>\n",
       "    </tr>\n",
       "  </thead>\n",
       "  <tbody>\n",
       "    <tr>\n",
       "      <th>0</th>\n",
       "      <td>1978</td>\n",
       "      <td>12.660000</td>\n",
       "    </tr>\n",
       "    <tr>\n",
       "      <th>1</th>\n",
       "      <td>1979</td>\n",
       "      <td>12.350000</td>\n",
       "    </tr>\n",
       "    <tr>\n",
       "      <th>2</th>\n",
       "      <td>1980</td>\n",
       "      <td>12.348333</td>\n",
       "    </tr>\n",
       "    <tr>\n",
       "      <th>3</th>\n",
       "      <td>1981</td>\n",
       "      <td>12.146667</td>\n",
       "    </tr>\n",
       "    <tr>\n",
       "      <th>4</th>\n",
       "      <td>1982</td>\n",
       "      <td>12.467500</td>\n",
       "    </tr>\n",
       "    <tr>\n",
       "      <th>5</th>\n",
       "      <td>1983</td>\n",
       "      <td>12.353333</td>\n",
       "    </tr>\n",
       "    <tr>\n",
       "      <th>6</th>\n",
       "      <td>1984</td>\n",
       "      <td>11.920000</td>\n",
       "    </tr>\n",
       "    <tr>\n",
       "      <th>7</th>\n",
       "      <td>1985</td>\n",
       "      <td>12.015833</td>\n",
       "    </tr>\n",
       "    <tr>\n",
       "      <th>8</th>\n",
       "      <td>1986</td>\n",
       "      <td>12.224167</td>\n",
       "    </tr>\n",
       "    <tr>\n",
       "      <th>9</th>\n",
       "      <td>1987</td>\n",
       "      <td>12.267917</td>\n",
       "    </tr>\n",
       "    <tr>\n",
       "      <th>10</th>\n",
       "      <td>1988</td>\n",
       "      <td>12.190000</td>\n",
       "    </tr>\n",
       "    <tr>\n",
       "      <th>11</th>\n",
       "      <td>1989</td>\n",
       "      <td>11.986667</td>\n",
       "    </tr>\n",
       "    <tr>\n",
       "      <th>12</th>\n",
       "      <td>1990</td>\n",
       "      <td>11.717500</td>\n",
       "    </tr>\n",
       "    <tr>\n",
       "      <th>13</th>\n",
       "      <td>1991</td>\n",
       "      <td>11.770000</td>\n",
       "    </tr>\n",
       "    <tr>\n",
       "      <th>14</th>\n",
       "      <td>1992</td>\n",
       "      <td>12.121667</td>\n",
       "    </tr>\n",
       "    <tr>\n",
       "      <th>15</th>\n",
       "      <td>1993</td>\n",
       "      <td>11.946667</td>\n",
       "    </tr>\n",
       "    <tr>\n",
       "      <th>16</th>\n",
       "      <td>1994</td>\n",
       "      <td>12.032500</td>\n",
       "    </tr>\n",
       "    <tr>\n",
       "      <th>17</th>\n",
       "      <td>1995</td>\n",
       "      <td>11.438333</td>\n",
       "    </tr>\n",
       "    <tr>\n",
       "      <th>18</th>\n",
       "      <td>1996</td>\n",
       "      <td>11.848333</td>\n",
       "    </tr>\n",
       "    <tr>\n",
       "      <th>19</th>\n",
       "      <td>1997</td>\n",
       "      <td>11.691667</td>\n",
       "    </tr>\n",
       "    <tr>\n",
       "      <th>20</th>\n",
       "      <td>1998</td>\n",
       "      <td>11.781667</td>\n",
       "    </tr>\n",
       "    <tr>\n",
       "      <th>21</th>\n",
       "      <td>1999</td>\n",
       "      <td>11.713333</td>\n",
       "    </tr>\n",
       "    <tr>\n",
       "      <th>22</th>\n",
       "      <td>2000</td>\n",
       "      <td>11.519167</td>\n",
       "    </tr>\n",
       "    <tr>\n",
       "      <th>23</th>\n",
       "      <td>2001</td>\n",
       "      <td>11.622500</td>\n",
       "    </tr>\n",
       "    <tr>\n",
       "      <th>24</th>\n",
       "      <td>2002</td>\n",
       "      <td>11.385000</td>\n",
       "    </tr>\n",
       "    <tr>\n",
       "      <th>25</th>\n",
       "      <td>2003</td>\n",
       "      <td>11.419167</td>\n",
       "    </tr>\n",
       "    <tr>\n",
       "      <th>26</th>\n",
       "      <td>2004</td>\n",
       "      <td>11.250833</td>\n",
       "    </tr>\n",
       "    <tr>\n",
       "      <th>27</th>\n",
       "      <td>2005</td>\n",
       "      <td>10.927500</td>\n",
       "    </tr>\n",
       "    <tr>\n",
       "      <th>28</th>\n",
       "      <td>2006</td>\n",
       "      <td>10.794167</td>\n",
       "    </tr>\n",
       "    <tr>\n",
       "      <th>29</th>\n",
       "      <td>2007</td>\n",
       "      <td>10.498333</td>\n",
       "    </tr>\n",
       "    <tr>\n",
       "      <th>30</th>\n",
       "      <td>2008</td>\n",
       "      <td>10.990000</td>\n",
       "    </tr>\n",
       "    <tr>\n",
       "      <th>31</th>\n",
       "      <td>2009</td>\n",
       "      <td>10.955833</td>\n",
       "    </tr>\n",
       "    <tr>\n",
       "      <th>32</th>\n",
       "      <td>2010</td>\n",
       "      <td>10.734167</td>\n",
       "    </tr>\n",
       "    <tr>\n",
       "      <th>33</th>\n",
       "      <td>2011</td>\n",
       "      <td>10.505833</td>\n",
       "    </tr>\n",
       "    <tr>\n",
       "      <th>34</th>\n",
       "      <td>2012</td>\n",
       "      <td>10.420000</td>\n",
       "    </tr>\n",
       "    <tr>\n",
       "      <th>35</th>\n",
       "      <td>2013</td>\n",
       "      <td>10.919167</td>\n",
       "    </tr>\n",
       "    <tr>\n",
       "      <th>36</th>\n",
       "      <td>2014</td>\n",
       "      <td>10.812500</td>\n",
       "    </tr>\n",
       "    <tr>\n",
       "      <th>37</th>\n",
       "      <td>2015</td>\n",
       "      <td>10.589167</td>\n",
       "    </tr>\n",
       "    <tr>\n",
       "      <th>38</th>\n",
       "      <td>2016</td>\n",
       "      <td>10.175833</td>\n",
       "    </tr>\n",
       "    <tr>\n",
       "      <th>39</th>\n",
       "      <td>2017</td>\n",
       "      <td>10.415000</td>\n",
       "    </tr>\n",
       "    <tr>\n",
       "      <th>40</th>\n",
       "      <td>2018</td>\n",
       "      <td>10.378333</td>\n",
       "    </tr>\n",
       "    <tr>\n",
       "      <th>41</th>\n",
       "      <td>2019</td>\n",
       "      <td>10.225000</td>\n",
       "    </tr>\n",
       "    <tr>\n",
       "      <th>42</th>\n",
       "      <td>2020</td>\n",
       "      <td>10.164167</td>\n",
       "    </tr>\n",
       "    <tr>\n",
       "      <th>43</th>\n",
       "      <td>2021</td>\n",
       "      <td>10.575000</td>\n",
       "    </tr>\n",
       "    <tr>\n",
       "      <th>44</th>\n",
       "      <td>2022</td>\n",
       "      <td>10.686667</td>\n",
       "    </tr>\n",
       "    <tr>\n",
       "      <th>45</th>\n",
       "      <td>2023</td>\n",
       "      <td>10.354545</td>\n",
       "    </tr>\n",
       "  </tbody>\n",
       "</table>\n",
       "</div>"
      ],
      "text/plain": [
       "    year     extent\n",
       "0   1978  12.660000\n",
       "1   1979  12.350000\n",
       "2   1980  12.348333\n",
       "3   1981  12.146667\n",
       "4   1982  12.467500\n",
       "5   1983  12.353333\n",
       "6   1984  11.920000\n",
       "7   1985  12.015833\n",
       "8   1986  12.224167\n",
       "9   1987  12.267917\n",
       "10  1988  12.190000\n",
       "11  1989  11.986667\n",
       "12  1990  11.717500\n",
       "13  1991  11.770000\n",
       "14  1992  12.121667\n",
       "15  1993  11.946667\n",
       "16  1994  12.032500\n",
       "17  1995  11.438333\n",
       "18  1996  11.848333\n",
       "19  1997  11.691667\n",
       "20  1998  11.781667\n",
       "21  1999  11.713333\n",
       "22  2000  11.519167\n",
       "23  2001  11.622500\n",
       "24  2002  11.385000\n",
       "25  2003  11.419167\n",
       "26  2004  11.250833\n",
       "27  2005  10.927500\n",
       "28  2006  10.794167\n",
       "29  2007  10.498333\n",
       "30  2008  10.990000\n",
       "31  2009  10.955833\n",
       "32  2010  10.734167\n",
       "33  2011  10.505833\n",
       "34  2012  10.420000\n",
       "35  2013  10.919167\n",
       "36  2014  10.812500\n",
       "37  2015  10.589167\n",
       "38  2016  10.175833\n",
       "39  2017  10.415000\n",
       "40  2018  10.378333\n",
       "41  2019  10.225000\n",
       "42  2020  10.164167\n",
       "43  2021  10.575000\n",
       "44  2022  10.686667\n",
       "45  2023  10.354545"
      ]
     },
     "execution_count": 3,
     "metadata": {},
     "output_type": "execute_result"
    }
   ],
   "source": [
    "# ice.describe()\n",
    "yearly_mean = ice.groupby('year')[['extent']].mean().reset_index()\n",
    "yearly_mean"
   ]
  },
  {
   "cell_type": "code",
   "execution_count": 29,
   "id": "d0f75bd9",
   "metadata": {},
   "outputs": [
    {
     "data": {
      "image/png": "[encoded data removed]",
      "text/plain": [
       "<Figure size 640x480 with 1 Axes>"
      ]
     },
     "metadata": {},
     "output_type": "display_data"
    }
   ],
   "source": [
    "plt.plot(yearly_mean[\"year\"],yearly_mean[\"extent\"])\n",
    "plt.xlabel(\"year\")\n",
    "plt.ylabel(\"million square km\")\n",
    "\n",
    "# showing the test set\n",
    "plt.axvline(x=2010, linestyle='--', color='gray', label='Horizontal Line at x=2010')\n",
    "\n",
    "plt.show()"
   ]
  },
  {
   "cell_type": "markdown",
   "id": "0d4241ba",
   "metadata": {},
   "source": [
    "## measure yearly average rate of change"
   ]
  },
  {
   "cell_type": "code",
   "execution_count": 5,
   "id": "f4108190",
   "metadata": {},
   "outputs": [
    {
     "name": "stdout",
     "output_type": "stream",
     "text": [
      "The rate of change of Arctic ice extent over the entire time period is: -0.50%\n"
     ]
    }
   ],
   "source": [
    "import pandas as pd\n",
    "\n",
    "# Assuming you have a DataFrame named 'yearly_mean' with columns 'year' and 'extent'\n",
    "# Replace the following line with your actual DataFrame\n",
    "# yearly_mean = pd.DataFrame({'year': [2010, 2011, 2012, ...], 'extent': [value1, value2, value3, ...]})\n",
    "\n",
    "# Calculate the rate of change\n",
    "first_extent = yearly_mean['extent'].iloc[0]\n",
    "last_extent = yearly_mean['extent'].iloc[-1]\n",
    "\n",
    "rate_of_change = ((last_extent - first_extent) / len(yearly_mean['extent'])) * 10\n",
    "\n",
    "print(f\"The rate of change of Arctic ice extent over the entire time period is: {rate_of_change:.2f}%\")"
   ]
  },
  {
   "cell_type": "markdown",
   "id": "8887fe18",
   "metadata": {},
   "source": [
    "## train test split"
   ]
  },
  {
   "cell_type": "code",
   "execution_count": 6,
   "id": "32dfba28",
   "metadata": {},
   "outputs": [],
   "source": [
    "from sklearn.model_selection import train_test_split\n",
    "x = yearly_mean[['year']]\n",
    "y=yearly_mean[['extent']]\n",
    "\n",
    "x_train, x_test, y_train, y_test = train_test_split(x, y, test_size=0.3, random_state=1,shuffle = False)\n",
    "\n",
    "x_train, y_train = np.array(x_train), np.array(y_train)\n",
    "x_test, y_test = np.array(x_test), np.array(y_test)"
   ]
  },
  {
   "cell_type": "code",
   "execution_count": 7,
   "id": "2acbe4b9",
   "metadata": {},
   "outputs": [
    {
     "data": {
      "text/plain": [
       "array([[1978],\n",
       "       [1979],\n",
       "       [1980],\n",
       "       [1981],\n",
       "       [1982],\n",
       "       [1983],\n",
       "       [1984],\n",
       "       [1985],\n",
       "       [1986],\n",
       "       [1987],\n",
       "       [1988],\n",
       "       [1989],\n",
       "       [1990],\n",
       "       [1991],\n",
       "       [1992],\n",
       "       [1993],\n",
       "       [1994],\n",
       "       [1995],\n",
       "       [1996],\n",
       "       [1997],\n",
       "       [1998],\n",
       "       [1999],\n",
       "       [2000],\n",
       "       [2001],\n",
       "       [2002],\n",
       "       [2003],\n",
       "       [2004],\n",
       "       [2005],\n",
       "       [2006],\n",
       "       [2007],\n",
       "       [2008],\n",
       "       [2009]], dtype=int64)"
      ]
     },
     "execution_count": 7,
     "metadata": {},
     "output_type": "execute_result"
    }
   ],
   "source": [
    "x_train"
   ]
  },
  {
   "cell_type": "markdown",
   "id": "06da55af",
   "metadata": {},
   "source": [
    "## linear regression"
   ]
  },
  {
   "cell_type": "code",
   "execution_count": 8,
   "id": "e2caa5c3",
   "metadata": {},
   "outputs": [
    {
     "data": {
      "image/png": "[encoded data removed]",
      "text/plain": [
       "<Figure size 640x480 with 1 Axes>"
      ]
     },
     "metadata": {},
     "output_type": "display_data"
    },
    {
     "name": "stdout",
     "output_type": "stream",
     "text": [
      "Mean Squared Error: 0.06277197923135061\n",
      "Mean Absolute Error: 0.2220853461894295\n",
      "R2 Score: -0.2212773533097212\n"
     ]
    }
   ],
   "source": [
    "from sklearn.linear_model import LinearRegression\n",
    "from sklearn.metrics import mean_absolute_error, mean_squared_error, r2_score\n",
    "\n",
    "x = yearly_mean[['year']]\n",
    "y=yearly_mean[['extent']]\n",
    "\n",
    "x_train, x_test, y_train, y_test = train_test_split(x, y, test_size=0.3, random_state=1,shuffle = False)\n",
    "\n",
    "x_train, y_train = np.array(x_train), np.array(y_train)\n",
    "x_test, y_test = np.array(x_test), np.array(y_test)\n",
    "\n",
    "\n",
    "linear_regression_model = LinearRegression()\n",
    "\n",
    "linear_regression_model.fit(x_train,y_train)\n",
    "\n",
    "\n",
    "plt.plot(x, y, color='blue', label='Original Data')\n",
    "\n",
    "\n",
    "\n",
    "\n",
    "# Plot the line using the model parameters\n",
    "y_pred = linear_regression_model.predict(x_test)\n",
    "plt.plot(x_test, y_pred, color='red', linewidth=3, label='Predicted Line')\n",
    "\n",
    "plt.xlabel('X')\n",
    "plt.ylabel('Y')\n",
    "plt.title('Linear Regression')\n",
    "plt.legend()\n",
    "plt.show()\n",
    "\n",
    "# Calculate Mean Squared Error\n",
    "mse = mean_squared_error(y_test, y_pred)\n",
    "print(f'Mean Squared Error: {mse}')\n",
    "\n",
    "# Calculate Mean Absolute Error\n",
    "mae = mean_absolute_error(y_test, y_pred)\n",
    "print(f'Mean Absolute Error: {mae}')\n",
    "\n",
    "# Calculate R2 Score\n",
    "r2 = r2_score(y_test, y_pred)\n",
    "print(f'R2 Score: {r2}')"
   ]
  },
  {
   "cell_type": "code",
   "execution_count": 22,
   "id": "2072377d",
   "metadata": {},
   "outputs": [
    {
     "data": {
      "text/plain": [
       "array([[-0.0517677]])"
      ]
     },
     "execution_count": 22,
     "metadata": {},
     "output_type": "execute_result"
    }
   ],
   "source": [
    "linear_regression_model.coef_"
   ]
  },
  {
   "cell_type": "code",
   "execution_count": 21,
   "id": "4f3ff880",
   "metadata": {},
   "outputs": [
    {
     "data": {
      "text/plain": [
       "array([114.95999511])"
      ]
     },
     "execution_count": 21,
     "metadata": {},
     "output_type": "execute_result"
    }
   ],
   "source": [
    "linear_regression_model.intercept_"
   ]
  },
  {
   "cell_type": "code",
   "execution_count": 25,
   "id": "7582b424",
   "metadata": {},
   "outputs": [
    {
     "data": {
      "text/plain": [
       "2220.689640644649"
      ]
     },
     "execution_count": 25,
     "metadata": {},
     "output_type": "execute_result"
    }
   ],
   "source": [
    "## ice free year\n",
    "-114.95999511 / -0.0517677"
   ]
  },
  {
   "cell_type": "markdown",
   "id": "fafd3c5a",
   "metadata": {},
   "source": [
    "## SVR"
   ]
  },
  {
   "cell_type": "code",
   "execution_count": 9,
   "id": "974a7efc",
   "metadata": {},
   "outputs": [
    {
     "data": {
      "image/png": "[encoded data removed]",
      "text/plain": [
       "<Figure size 640x480 with 1 Axes>"
      ]
     },
     "metadata": {},
     "output_type": "display_data"
    },
    {
     "name": "stdout",
     "output_type": "stream",
     "text": [
      "Mean Squared Error: 0.08711398398884183\n",
      "Mean Absolute Error: 0.24894828399532262\n",
      "R2 Score: -0.6948698623959109\n"
     ]
    }
   ],
   "source": [
    "from sklearn.svm import SVR\n",
    "from sklearn.model_selection import train_test_split\n",
    "from sklearn.metrics import mean_absolute_error, mean_squared_error, r2_score\n",
    "import numpy as np\n",
    "import matplotlib.pyplot as plt\n",
    "\n",
    "x = yearly_mean[['year']]\n",
    "y = yearly_mean[['extent']]\n",
    "\n",
    "x_train, x_test, y_train, y_test = train_test_split(x, y, test_size=0.3, random_state=1, shuffle=False)\n",
    "\n",
    "x_train, y_train = np.array(x_train), np.array(y_train)\n",
    "x_test, y_test = np.array(x_test), np.array(y_test)\n",
    "\n",
    "# Use Support Vector Regression (SVR) with RBF kernel\n",
    "svr = SVR(kernel='linear')\n",
    "\n",
    "svr.fit(x_train, y_train.ravel())\n",
    "\n",
    "plt.plot(x, y, color='blue', label='Original Data')\n",
    "\n",
    "# Plot the SVR predictions\n",
    "y_pred = svr.predict(x_test)\n",
    "plt.plot(x_test, y_pred, color='red', linewidth=3, label='SVR Predicted Line')\n",
    "\n",
    "plt.xlabel('X')\n",
    "plt.ylabel('Y')\n",
    "plt.title('Support Vector Regression (SVR) with RBF Kernel')\n",
    "plt.legend()\n",
    "plt.show()\n",
    "\n",
    "# Calculate Mean Squared Error\n",
    "mse = mean_squared_error(y_test, y_pred)\n",
    "print(f'Mean Squared Error: {mse}')\n",
    "\n",
    "# Calculate Mean Absolute Error\n",
    "mae = mean_absolute_error(y_test, y_pred)\n",
    "print(f'Mean Absolute Error: {mae}')\n",
    "\n",
    "# Calculate R2 Score\n",
    "r2 = r2_score(y_test, y_pred)\n",
    "print(f'R2 Score: {r2}')"
   ]
  },
  {
   "cell_type": "code",
   "execution_count": 23,
   "id": "f0325eb6",
   "metadata": {},
   "outputs": [
    {
     "data": {
      "text/plain": [
       "array([[-0.0485119]])"
      ]
     },
     "execution_count": 23,
     "metadata": {},
     "output_type": "execute_result"
    }
   ],
   "source": [
    "svr.coef_"
   ]
  },
  {
   "cell_type": "code",
   "execution_count": 24,
   "id": "16a79825",
   "metadata": {},
   "outputs": [
    {
     "data": {
      "text/plain": [
       "array([108.50190475])"
      ]
     },
     "execution_count": 24,
     "metadata": {},
     "output_type": "execute_result"
    }
   ],
   "source": [
    "svr.intercept_"
   ]
  },
  {
   "cell_type": "code",
   "execution_count": 26,
   "id": "ab422bfd",
   "metadata": {},
   "outputs": [
    {
     "data": {
      "text/plain": [
       "2236.6039002801376"
      ]
     },
     "execution_count": 26,
     "metadata": {},
     "output_type": "execute_result"
    }
   ],
   "source": [
    "-108.50190475 / -0.0485119"
   ]
  },
  {
   "cell_type": "code",
   "execution_count": 10,
   "id": "437d8da5",
   "metadata": {},
   "outputs": [
    {
     "data": {
      "text/plain": [
       "array([[1978],\n",
       "       [1979],\n",
       "       [1980],\n",
       "       [1981],\n",
       "       [1982],\n",
       "       [1983],\n",
       "       [1984],\n",
       "       [1985],\n",
       "       [1986],\n",
       "       [1987],\n",
       "       [1988],\n",
       "       [1989],\n",
       "       [1990],\n",
       "       [1991],\n",
       "       [1992],\n",
       "       [1993],\n",
       "       [1994],\n",
       "       [1995],\n",
       "       [1996],\n",
       "       [1997],\n",
       "       [1998],\n",
       "       [1999],\n",
       "       [2000],\n",
       "       [2001],\n",
       "       [2002],\n",
       "       [2003],\n",
       "       [2004],\n",
       "       [2005],\n",
       "       [2006],\n",
       "       [2007],\n",
       "       [2008],\n",
       "       [2009]], dtype=int64)"
      ]
     },
     "execution_count": 10,
     "metadata": {},
     "output_type": "execute_result"
    }
   ],
   "source": [
    "x_train"
   ]
  },
  {
   "cell_type": "markdown",
   "id": "9c8e9272",
   "metadata": {},
   "source": [
    "## graph showing both the models"
   ]
  },
  {
   "cell_type": "code",
   "execution_count": 68,
   "id": "d4bf0f13",
   "metadata": {},
   "outputs": [
    {
     "data": {
      "image/png": "[encoded data removed]",
      "text/plain": [
       "<Figure size 640x480 with 1 Axes>"
      ]
     },
     "metadata": {},
     "output_type": "display_data"
    }
   ],
   "source": [
    "plt.plot(yearly_mean[\"year\"],yearly_mean[\"extent\"], label=\"Arctic ice extent\")\n",
    "plt.xlabel(\"year\")\n",
    "plt.ylabel(\"million square km\")\n",
    "\n",
    "train_test_x = np.concatenate((x_train, x_test), axis=0)\n",
    "\n",
    "y_pred = linear_regression_model.predict(train_test_x)\n",
    "plt.plot(train_test_x, y_pred, color='red', linewidth=1, label='LR Predicted Line')\n",
    "\n",
    "y_pred = svr.predict(train_test_x)\n",
    "plt.plot(train_test_x, y_pred, color='green', linewidth=1, label='SVR Predicted Line')\n",
    "\n",
    "y_pred = poly_regression_model.predict(poly_train_test_x)\n",
    "plt.plot(train_test_x, y_pred, color='purple', linewidth=1, label='PR Predicted Line')\n",
    "\n",
    "# showing the test set\n",
    "plt.axvline(x=2010, linestyle='--', color='gray', label='Test set cutoff')\n",
    "\n",
    "plt.legend()\n",
    "\n",
    "plt.show()"
   ]
  },
  {
   "cell_type": "code",
   "execution_count": 96,
   "id": "c65164bb",
   "metadata": {},
   "outputs": [
    {
     "name": "stderr",
     "output_type": "stream",
     "text": [
      "C:\\Users\\ahmed\\anaconda3\\envs\\tf\\lib\\site-packages\\sklearn\\neural_network\\_multilayer_perceptron.py:1625: DataConversionWarning: A column-vector y was passed when a 1d array was expected. Please change the shape of y to (n_samples, ), for example using ravel().\n",
      "  y = column_or_1d(y, warn=True)\n"
     ]
    },
    {
     "data": {
      "image/png": "[encoded data removed]",
      "text/plain": [
       "<Figure size 640x480 with 1 Axes>"
      ]
     },
     "metadata": {},
     "output_type": "display_data"
    }
   ],
   "source": [
    "from sklearn.neural_network import MLPRegressor\n",
    "\n",
    "plt.plot(yearly_mean[\"year\"],yearly_mean[\"extent\"], label=\"Arctic ice extent\")\n",
    "plt.xlabel(\"year\")\n",
    "plt.ylabel(\"million square km\")\n",
    "\n",
    "train_test_x = np.concatenate((x_train, x_test), axis=0)\n",
    "\n",
    "y_pred = linear_regression_model.predict(train_test_x)\n",
    "plt.plot(train_test_x, y_pred, color='red', linewidth=1, label='LR Predicted Line')\n",
    "\n",
    "y_pred = svr.predict(train_test_x)\n",
    "plt.plot(train_test_x, y_pred, color='green', linewidth=1, label='SVR Predicted Line')\n",
    "\n",
    "y_pred = poly_regression_model.predict(poly_train_test_x)\n",
    "plt.plot(train_test_x, y_pred, color='purple', linewidth=1, label='PR Predicted Line')\n",
    "\n",
    "# Neural Network\n",
    "nn_model = MLPRegressor(hidden_layer_sizes=(10), max_iter=10000)\n",
    "nn_model.fit(x_train, y_train)\n",
    "y_pred = nn_model.predict(train_test_x)\n",
    "plt.plot(train_test_x, y_pred, color='orange', linewidth=1, label='NN Predicted Line')\n",
    "\n",
    "# showing the test set\n",
    "plt.axvline(x=2010, linestyle='--', color='gray', label='Test set cutoff')\n",
    "\n",
    "plt.legend()\n",
    "\n",
    "plt.show()"
   ]
  },
  {
   "cell_type": "markdown",
   "id": "df9457ca",
   "metadata": {},
   "source": [
    "## Polynomial regression"
   ]
  },
  {
   "cell_type": "code",
   "execution_count": 61,
   "id": "8c7ca4c6",
   "metadata": {},
   "outputs": [],
   "source": [
    "poly_x_train = np.concatenate((x_train, x_train**2), axis=1)\n",
    "poly_x_test = np.concatenate((x_test, x_test**2), axis=1)\n",
    "\n",
    "poly_train_test_x = np.concatenate((poly_x_train, poly_x_test), axis=0)"
   ]
  },
  {
   "cell_type": "code",
   "execution_count": 60,
   "id": "b503aab0",
   "metadata": {},
   "outputs": [
    {
     "data": {
      "text/plain": [
       "array([[   2010, 4040100],\n",
       "       [   2011, 4044121],\n",
       "       [   2012, 4048144],\n",
       "       [   2013, 4052169],\n",
       "       [   2014, 4056196],\n",
       "       [   2015, 4060225],\n",
       "       [   2016, 4064256],\n",
       "       [   2017, 4068289],\n",
       "       [   2018, 4072324],\n",
       "       [   2019, 4076361],\n",
       "       [   2020, 4080400],\n",
       "       [   2021, 4084441],\n",
       "       [   2022, 4088484],\n",
       "       [   2023, 4092529]], dtype=int64)"
      ]
     },
     "execution_count": 60,
     "metadata": {},
     "output_type": "execute_result"
    }
   ],
   "source": [
    "poly_x_test"
   ]
  },
  {
   "cell_type": "code",
   "execution_count": 58,
   "id": "5cb25bd9",
   "metadata": {},
   "outputs": [
    {
     "data": {
      "text/plain": [
       "array([[   1978, 3912484],\n",
       "       [   1979, 3916441],\n",
       "       [   1980, 3920400],\n",
       "       [   1981, 3924361],\n",
       "       [   1982, 3928324],\n",
       "       [   1983, 3932289],\n",
       "       [   1984, 3936256],\n",
       "       [   1985, 3940225],\n",
       "       [   1986, 3944196],\n",
       "       [   1987, 3948169],\n",
       "       [   1988, 3952144],\n",
       "       [   1989, 3956121],\n",
       "       [   1990, 3960100],\n",
       "       [   1991, 3964081],\n",
       "       [   1992, 3968064],\n",
       "       [   1993, 3972049],\n",
       "       [   1994, 3976036],\n",
       "       [   1995, 3980025],\n",
       "       [   1996, 3984016],\n",
       "       [   1997, 3988009],\n",
       "       [   1998, 3992004],\n",
       "       [   1999, 3996001],\n",
       "       [   2000, 4000000],\n",
       "       [   2001, 4004001],\n",
       "       [   2002, 4008004],\n",
       "       [   2003, 4012009],\n",
       "       [   2004, 4016016],\n",
       "       [   2005, 4020025],\n",
       "       [   2006, 4024036],\n",
       "       [   2007, 4028049],\n",
       "       [   2008, 4032064],\n",
       "       [   2009, 4036081],\n",
       "       [   2010, 4040100],\n",
       "       [   2011, 4044121],\n",
       "       [   2012, 4048144],\n",
       "       [   2013, 4052169],\n",
       "       [   2014, 4056196],\n",
       "       [   2015, 4060225],\n",
       "       [   2016, 4064256],\n",
       "       [   2017, 4068289],\n",
       "       [   2018, 4072324],\n",
       "       [   2019, 4076361],\n",
       "       [   2020, 4080400],\n",
       "       [   2021, 4084441],\n",
       "       [   2022, 4088484],\n",
       "       [   2023, 4092529]], dtype=int64)"
      ]
     },
     "execution_count": 58,
     "metadata": {},
     "output_type": "execute_result"
    }
   ],
   "source": [
    "np.concatenate((poly_x_train, poly_x_test), axis=0)"
   ]
  },
  {
   "cell_type": "code",
   "execution_count": 67,
   "id": "c59f6882",
   "metadata": {},
   "outputs": [
    {
     "data": {
      "image/png": "[encoded data removed]",
      "text/plain": [
       "<Figure size 640x480 with 1 Axes>"
      ]
     },
     "metadata": {},
     "output_type": "display_data"
    },
    {
     "name": "stdout",
     "output_type": "stream",
     "text": [
      "Mean Squared Error: 0.3750240951945334\n",
      "Mean Absolute Error: 0.4901584412637699\n",
      "R2 Score: -6.296383514028288\n"
     ]
    }
   ],
   "source": [
    "poly_regression_model = LinearRegression()\n",
    "\n",
    "poly_regression_model.fit(poly_x_train, y_train)\n",
    "# poly_regression_model.fit(poly_train_test_x, np.concatenate((y_train, y_test), axis=0))\n",
    "\n",
    "\n",
    "\n",
    "plt.plot(x, y, color='blue', label='Original Data')\n",
    "\n",
    "\n",
    "\n",
    "# Plot the line using the model parameters\n",
    "y_pred = poly_regression_model.predict(poly_train_test_x)\n",
    "plt.plot(train_test_x, y_pred, color='red', linewidth=3, label='Predicted Line')\n",
    "\n",
    "plt.xlabel('X')\n",
    "plt.ylabel('Y')\n",
    "plt.title('Linear Regression')\n",
    "plt.legend()\n",
    "plt.show()\n",
    "\n",
    "y_pred = poly_regression_model.predict(poly_x_test)\n",
    "\n",
    "# Calculate Mean Squared Error\n",
    "mse = mean_squared_error(y_test, y_pred)\n",
    "print(f'Mean Squared Error: {mse}')\n",
    "\n",
    "# Calculate Mean Absolute Error\n",
    "mae = mean_absolute_error(y_test, y_pred)\n",
    "print(f'Mean Absolute Error: {mae}')\n",
    "\n",
    "# Calculate R2 Score\n",
    "r2 = r2_score(y_test, y_pred)\n",
    "print(f'R2 Score: {r2}')"
   ]
  },
  {
   "cell_type": "code",
   "execution_count": 74,
   "id": "769b6726",
   "metadata": {},
   "outputs": [
    {
     "data": {
      "text/plain": [
       "array([[ 4.62109793e+00, -1.17202549e-03]])"
      ]
     },
     "execution_count": 74,
     "metadata": {},
     "output_type": "execute_result"
    }
   ],
   "source": [
    "poly_regression_model.coef_"
   ]
  },
  {
   "cell_type": "code",
   "execution_count": 76,
   "id": "d8939e92",
   "metadata": {},
   "outputs": [
    {
     "data": {
      "text/plain": [
       "4.621097930054312"
      ]
     },
     "execution_count": 76,
     "metadata": {},
     "output_type": "execute_result"
    }
   ],
   "source": [
    "poly_regression_model.coef_[0][0]"
   ]
  },
  {
   "cell_type": "code",
   "execution_count": 75,
   "id": "425a9cee",
   "metadata": {},
   "outputs": [
    {
     "data": {
      "text/plain": [
       "-0.0011720254909150139"
      ]
     },
     "execution_count": 75,
     "metadata": {},
     "output_type": "execute_result"
    }
   ],
   "source": [
    "poly_regression_model.coef_[0][1]"
   ]
  },
  {
   "cell_type": "code",
   "execution_count": 71,
   "id": "da880785",
   "metadata": {},
   "outputs": [
    {
     "data": {
      "text/plain": [
       "array([-4542.61890869])"
      ]
     },
     "execution_count": 71,
     "metadata": {},
     "output_type": "execute_result"
    }
   ],
   "source": [
    "poly_regression_model.intercept_"
   ]
  },
  {
   "cell_type": "code",
   "execution_count": 78,
   "id": "c0f979f0",
   "metadata": {},
   "outputs": [
    {
     "data": {
      "text/plain": [
       "array([[-4385.54142793]])"
      ]
     },
     "execution_count": 78,
     "metadata": {},
     "output_type": "execute_result"
    }
   ],
   "source": [
    "poly_regression_model.predict([[a,a]])"
   ]
  },
  {
   "cell_type": "code",
   "execution_count": 80,
   "id": "19bfc45e",
   "metadata": {},
   "outputs": [
    {
     "ename": "ValueError",
     "evalue": "Found array with dim 3. LinearRegression expected <= 2.",
     "output_type": "error",
     "traceback": [
      "\u001b[1;31m---------------------------------------------------------------------------\u001b[0m",
      "\u001b[1;31mValueError\u001b[0m                                Traceback (most recent call last)",
      "Cell \u001b[1;32mIn[80], line 19\u001b[0m\n\u001b[0;32m     16\u001b[0m initial_guess \u001b[38;5;241m=\u001b[39m \u001b[38;5;241m0.0\u001b[39m\n\u001b[0;32m     18\u001b[0m \u001b[38;5;66;03m# Solve the equation\u001b[39;00m\n\u001b[1;32m---> 19\u001b[0m solution \u001b[38;5;241m=\u001b[39m \u001b[43mfsolve\u001b[49m\u001b[43m(\u001b[49m\u001b[43mequation_to_solve\u001b[49m\u001b[43m,\u001b[49m\u001b[43m \u001b[49m\u001b[43minitial_guess\u001b[49m\u001b[43m)\u001b[49m\n\u001b[0;32m     21\u001b[0m \u001b[38;5;28mprint\u001b[39m(\u001b[38;5;124m\"\u001b[39m\u001b[38;5;124mThe value of \u001b[39m\u001b[38;5;124m'\u001b[39m\u001b[38;5;124ma\u001b[39m\u001b[38;5;124m'\u001b[39m\u001b[38;5;124m for which poly_regression_model.predict([[a, a]]) = 0 is:\u001b[39m\u001b[38;5;124m\"\u001b[39m, solution)\n",
      "File \u001b[1;32m~\\anaconda3\\envs\\tf\\lib\\site-packages\\scipy\\optimize\\_minpack_py.py:162\u001b[0m, in \u001b[0;36mfsolve\u001b[1;34m(func, x0, args, fprime, full_output, col_deriv, xtol, maxfev, band, epsfcn, factor, diag)\u001b[0m\n\u001b[0;32m     50\u001b[0m \u001b[38;5;250m\u001b[39m\u001b[38;5;124;03m\"\"\"\u001b[39;00m\n\u001b[0;32m     51\u001b[0m \u001b[38;5;124;03mFind the roots of a function.\u001b[39;00m\n\u001b[0;32m     52\u001b[0m \n\u001b[1;32m   (...)\u001b[0m\n\u001b[0;32m    152\u001b[0m \n\u001b[0;32m    153\u001b[0m \u001b[38;5;124;03m\"\"\"\u001b[39;00m\n\u001b[0;32m    154\u001b[0m options \u001b[38;5;241m=\u001b[39m {\u001b[38;5;124m'\u001b[39m\u001b[38;5;124mcol_deriv\u001b[39m\u001b[38;5;124m'\u001b[39m: col_deriv,\n\u001b[0;32m    155\u001b[0m            \u001b[38;5;124m'\u001b[39m\u001b[38;5;124mxtol\u001b[39m\u001b[38;5;124m'\u001b[39m: xtol,\n\u001b[0;32m    156\u001b[0m            \u001b[38;5;124m'\u001b[39m\u001b[38;5;124mmaxfev\u001b[39m\u001b[38;5;124m'\u001b[39m: maxfev,\n\u001b[1;32m   (...)\u001b[0m\n\u001b[0;32m    159\u001b[0m            \u001b[38;5;124m'\u001b[39m\u001b[38;5;124mfactor\u001b[39m\u001b[38;5;124m'\u001b[39m: factor,\n\u001b[0;32m    160\u001b[0m            \u001b[38;5;124m'\u001b[39m\u001b[38;5;124mdiag\u001b[39m\u001b[38;5;124m'\u001b[39m: diag}\n\u001b[1;32m--> 162\u001b[0m res \u001b[38;5;241m=\u001b[39m _root_hybr(func, x0, args, jac\u001b[38;5;241m=\u001b[39mfprime, \u001b[38;5;241m*\u001b[39m\u001b[38;5;241m*\u001b[39moptions)\n\u001b[0;32m    163\u001b[0m \u001b[38;5;28;01mif\u001b[39;00m full_output:\n\u001b[0;32m    164\u001b[0m     x \u001b[38;5;241m=\u001b[39m res[\u001b[38;5;124m'\u001b[39m\u001b[38;5;124mx\u001b[39m\u001b[38;5;124m'\u001b[39m]\n",
      "File \u001b[1;32m~\\anaconda3\\envs\\tf\\lib\\site-packages\\scipy\\optimize\\_minpack_py.py:228\u001b[0m, in \u001b[0;36m_root_hybr\u001b[1;34m(func, x0, args, jac, col_deriv, xtol, maxfev, band, eps, factor, diag, **unknown_options)\u001b[0m\n\u001b[0;32m    226\u001b[0m \u001b[38;5;28;01mif\u001b[39;00m \u001b[38;5;129;01mnot\u001b[39;00m \u001b[38;5;28misinstance\u001b[39m(args, \u001b[38;5;28mtuple\u001b[39m):\n\u001b[0;32m    227\u001b[0m     args \u001b[38;5;241m=\u001b[39m (args,)\n\u001b[1;32m--> 228\u001b[0m shape, dtype \u001b[38;5;241m=\u001b[39m \u001b[43m_check_func\u001b[49m\u001b[43m(\u001b[49m\u001b[38;5;124;43m'\u001b[39;49m\u001b[38;5;124;43mfsolve\u001b[39;49m\u001b[38;5;124;43m'\u001b[39;49m\u001b[43m,\u001b[49m\u001b[43m \u001b[49m\u001b[38;5;124;43m'\u001b[39;49m\u001b[38;5;124;43mfunc\u001b[39;49m\u001b[38;5;124;43m'\u001b[39;49m\u001b[43m,\u001b[49m\u001b[43m \u001b[49m\u001b[43mfunc\u001b[49m\u001b[43m,\u001b[49m\u001b[43m \u001b[49m\u001b[43mx0\u001b[49m\u001b[43m,\u001b[49m\u001b[43m \u001b[49m\u001b[43margs\u001b[49m\u001b[43m,\u001b[49m\u001b[43m \u001b[49m\u001b[43mn\u001b[49m\u001b[43m,\u001b[49m\u001b[43m \u001b[49m\u001b[43m(\u001b[49m\u001b[43mn\u001b[49m\u001b[43m,\u001b[49m\u001b[43m)\u001b[49m\u001b[43m)\u001b[49m\n\u001b[0;32m    229\u001b[0m \u001b[38;5;28;01mif\u001b[39;00m epsfcn \u001b[38;5;129;01mis\u001b[39;00m \u001b[38;5;28;01mNone\u001b[39;00m:\n\u001b[0;32m    230\u001b[0m     epsfcn \u001b[38;5;241m=\u001b[39m finfo(dtype)\u001b[38;5;241m.\u001b[39meps\n",
      "File \u001b[1;32m~\\anaconda3\\envs\\tf\\lib\\site-packages\\scipy\\optimize\\_minpack_py.py:25\u001b[0m, in \u001b[0;36m_check_func\u001b[1;34m(checker, argname, thefunc, x0, args, numinputs, output_shape)\u001b[0m\n\u001b[0;32m     23\u001b[0m \u001b[38;5;28;01mdef\u001b[39;00m \u001b[38;5;21m_check_func\u001b[39m(checker, argname, thefunc, x0, args, numinputs,\n\u001b[0;32m     24\u001b[0m                 output_shape\u001b[38;5;241m=\u001b[39m\u001b[38;5;28;01mNone\u001b[39;00m):\n\u001b[1;32m---> 25\u001b[0m     res \u001b[38;5;241m=\u001b[39m atleast_1d(\u001b[43mthefunc\u001b[49m\u001b[43m(\u001b[49m\u001b[38;5;241;43m*\u001b[39;49m\u001b[43m(\u001b[49m\u001b[43m(\u001b[49m\u001b[43mx0\u001b[49m\u001b[43m[\u001b[49m\u001b[43m:\u001b[49m\u001b[43mnuminputs\u001b[49m\u001b[43m]\u001b[49m\u001b[43m,\u001b[49m\u001b[43m)\u001b[49m\u001b[43m \u001b[49m\u001b[38;5;241;43m+\u001b[39;49m\u001b[43m \u001b[49m\u001b[43margs\u001b[49m\u001b[43m)\u001b[49m\u001b[43m)\u001b[49m)\n\u001b[0;32m     26\u001b[0m     \u001b[38;5;28;01mif\u001b[39;00m (output_shape \u001b[38;5;129;01mis\u001b[39;00m \u001b[38;5;129;01mnot\u001b[39;00m \u001b[38;5;28;01mNone\u001b[39;00m) \u001b[38;5;129;01mand\u001b[39;00m (shape(res) \u001b[38;5;241m!=\u001b[39m output_shape):\n\u001b[0;32m     27\u001b[0m         \u001b[38;5;28;01mif\u001b[39;00m (output_shape[\u001b[38;5;241m0\u001b[39m] \u001b[38;5;241m!=\u001b[39m \u001b[38;5;241m1\u001b[39m):\n",
      "Cell \u001b[1;32mIn[80], line 13\u001b[0m, in \u001b[0;36mequation_to_solve\u001b[1;34m(a)\u001b[0m\n\u001b[0;32m     12\u001b[0m \u001b[38;5;28;01mdef\u001b[39;00m \u001b[38;5;21mequation_to_solve\u001b[39m(a):\n\u001b[1;32m---> 13\u001b[0m     \u001b[38;5;28;01mreturn\u001b[39;00m \u001b[43mpoly_regression_model\u001b[49m\u001b[38;5;241;43m.\u001b[39;49m\u001b[43mpredict\u001b[49m\u001b[43m(\u001b[49m\u001b[43m[\u001b[49m\u001b[43m[\u001b[49m\u001b[43ma\u001b[49m\u001b[43m,\u001b[49m\u001b[43m \u001b[49m\u001b[43ma\u001b[49m\u001b[43m]\u001b[49m\u001b[43m]\u001b[49m\u001b[43m)\u001b[49m\n",
      "File \u001b[1;32m~\\anaconda3\\envs\\tf\\lib\\site-packages\\sklearn\\linear_model\\_base.py:386\u001b[0m, in \u001b[0;36mLinearModel.predict\u001b[1;34m(self, X)\u001b[0m\n\u001b[0;32m    372\u001b[0m \u001b[38;5;28;01mdef\u001b[39;00m \u001b[38;5;21mpredict\u001b[39m(\u001b[38;5;28mself\u001b[39m, X):\n\u001b[0;32m    373\u001b[0m \u001b[38;5;250m    \u001b[39m\u001b[38;5;124;03m\"\"\"\u001b[39;00m\n\u001b[0;32m    374\u001b[0m \u001b[38;5;124;03m    Predict using the linear model.\u001b[39;00m\n\u001b[0;32m    375\u001b[0m \n\u001b[1;32m   (...)\u001b[0m\n\u001b[0;32m    384\u001b[0m \u001b[38;5;124;03m        Returns predicted values.\u001b[39;00m\n\u001b[0;32m    385\u001b[0m \u001b[38;5;124;03m    \"\"\"\u001b[39;00m\n\u001b[1;32m--> 386\u001b[0m     \u001b[38;5;28;01mreturn\u001b[39;00m \u001b[38;5;28;43mself\u001b[39;49m\u001b[38;5;241;43m.\u001b[39;49m\u001b[43m_decision_function\u001b[49m\u001b[43m(\u001b[49m\u001b[43mX\u001b[49m\u001b[43m)\u001b[49m\n",
      "File \u001b[1;32m~\\anaconda3\\envs\\tf\\lib\\site-packages\\sklearn\\linear_model\\_base.py:369\u001b[0m, in \u001b[0;36mLinearModel._decision_function\u001b[1;34m(self, X)\u001b[0m\n\u001b[0;32m    366\u001b[0m \u001b[38;5;28;01mdef\u001b[39;00m \u001b[38;5;21m_decision_function\u001b[39m(\u001b[38;5;28mself\u001b[39m, X):\n\u001b[0;32m    367\u001b[0m     check_is_fitted(\u001b[38;5;28mself\u001b[39m)\n\u001b[1;32m--> 369\u001b[0m     X \u001b[38;5;241m=\u001b[39m \u001b[38;5;28;43mself\u001b[39;49m\u001b[38;5;241;43m.\u001b[39;49m\u001b[43m_validate_data\u001b[49m\u001b[43m(\u001b[49m\u001b[43mX\u001b[49m\u001b[43m,\u001b[49m\u001b[43m \u001b[49m\u001b[43maccept_sparse\u001b[49m\u001b[38;5;241;43m=\u001b[39;49m\u001b[43m[\u001b[49m\u001b[38;5;124;43m\"\u001b[39;49m\u001b[38;5;124;43mcsr\u001b[39;49m\u001b[38;5;124;43m\"\u001b[39;49m\u001b[43m,\u001b[49m\u001b[43m \u001b[49m\u001b[38;5;124;43m\"\u001b[39;49m\u001b[38;5;124;43mcsc\u001b[39;49m\u001b[38;5;124;43m\"\u001b[39;49m\u001b[43m,\u001b[49m\u001b[43m \u001b[49m\u001b[38;5;124;43m\"\u001b[39;49m\u001b[38;5;124;43mcoo\u001b[39;49m\u001b[38;5;124;43m\"\u001b[39;49m\u001b[43m]\u001b[49m\u001b[43m,\u001b[49m\u001b[43m \u001b[49m\u001b[43mreset\u001b[49m\u001b[38;5;241;43m=\u001b[39;49m\u001b[38;5;28;43;01mFalse\u001b[39;49;00m\u001b[43m)\u001b[49m\n\u001b[0;32m    370\u001b[0m     \u001b[38;5;28;01mreturn\u001b[39;00m safe_sparse_dot(X, \u001b[38;5;28mself\u001b[39m\u001b[38;5;241m.\u001b[39mcoef_\u001b[38;5;241m.\u001b[39mT, dense_output\u001b[38;5;241m=\u001b[39m\u001b[38;5;28;01mTrue\u001b[39;00m) \u001b[38;5;241m+\u001b[39m \u001b[38;5;28mself\u001b[39m\u001b[38;5;241m.\u001b[39mintercept_\n",
      "File \u001b[1;32m~\\anaconda3\\envs\\tf\\lib\\site-packages\\sklearn\\base.py:605\u001b[0m, in \u001b[0;36mBaseEstimator._validate_data\u001b[1;34m(self, X, y, reset, validate_separately, cast_to_ndarray, **check_params)\u001b[0m\n\u001b[0;32m    603\u001b[0m         out \u001b[38;5;241m=\u001b[39m X, y\n\u001b[0;32m    604\u001b[0m \u001b[38;5;28;01melif\u001b[39;00m \u001b[38;5;129;01mnot\u001b[39;00m no_val_X \u001b[38;5;129;01mand\u001b[39;00m no_val_y:\n\u001b[1;32m--> 605\u001b[0m     out \u001b[38;5;241m=\u001b[39m check_array(X, input_name\u001b[38;5;241m=\u001b[39m\u001b[38;5;124m\"\u001b[39m\u001b[38;5;124mX\u001b[39m\u001b[38;5;124m\"\u001b[39m, \u001b[38;5;241m*\u001b[39m\u001b[38;5;241m*\u001b[39mcheck_params)\n\u001b[0;32m    606\u001b[0m \u001b[38;5;28;01melif\u001b[39;00m no_val_X \u001b[38;5;129;01mand\u001b[39;00m \u001b[38;5;129;01mnot\u001b[39;00m no_val_y:\n\u001b[0;32m    607\u001b[0m     out \u001b[38;5;241m=\u001b[39m _check_y(y, \u001b[38;5;241m*\u001b[39m\u001b[38;5;241m*\u001b[39mcheck_params)\n",
      "File \u001b[1;32m~\\anaconda3\\envs\\tf\\lib\\site-packages\\sklearn\\utils\\validation.py:951\u001b[0m, in \u001b[0;36mcheck_array\u001b[1;34m(array, accept_sparse, accept_large_sparse, dtype, order, copy, force_all_finite, ensure_2d, allow_nd, ensure_min_samples, ensure_min_features, estimator, input_name)\u001b[0m\n\u001b[0;32m    946\u001b[0m     \u001b[38;5;28;01mraise\u001b[39;00m \u001b[38;5;167;01mValueError\u001b[39;00m(\n\u001b[0;32m    947\u001b[0m         \u001b[38;5;124m\"\u001b[39m\u001b[38;5;124mdtype=\u001b[39m\u001b[38;5;124m'\u001b[39m\u001b[38;5;124mnumeric\u001b[39m\u001b[38;5;124m'\u001b[39m\u001b[38;5;124m is not compatible with arrays of bytes/strings.\u001b[39m\u001b[38;5;124m\"\u001b[39m\n\u001b[0;32m    948\u001b[0m         \u001b[38;5;124m\"\u001b[39m\u001b[38;5;124mConvert your data to numeric values explicitly instead.\u001b[39m\u001b[38;5;124m\"\u001b[39m\n\u001b[0;32m    949\u001b[0m     )\n\u001b[0;32m    950\u001b[0m \u001b[38;5;28;01mif\u001b[39;00m \u001b[38;5;129;01mnot\u001b[39;00m allow_nd \u001b[38;5;129;01mand\u001b[39;00m array\u001b[38;5;241m.\u001b[39mndim \u001b[38;5;241m>\u001b[39m\u001b[38;5;241m=\u001b[39m \u001b[38;5;241m3\u001b[39m:\n\u001b[1;32m--> 951\u001b[0m     \u001b[38;5;28;01mraise\u001b[39;00m \u001b[38;5;167;01mValueError\u001b[39;00m(\n\u001b[0;32m    952\u001b[0m         \u001b[38;5;124m\"\u001b[39m\u001b[38;5;124mFound array with dim \u001b[39m\u001b[38;5;132;01m%d\u001b[39;00m\u001b[38;5;124m. \u001b[39m\u001b[38;5;132;01m%s\u001b[39;00m\u001b[38;5;124m expected <= 2.\u001b[39m\u001b[38;5;124m\"\u001b[39m\n\u001b[0;32m    953\u001b[0m         \u001b[38;5;241m%\u001b[39m (array\u001b[38;5;241m.\u001b[39mndim, estimator_name)\n\u001b[0;32m    954\u001b[0m     )\n\u001b[0;32m    956\u001b[0m \u001b[38;5;28;01mif\u001b[39;00m force_all_finite:\n\u001b[0;32m    957\u001b[0m     _assert_all_finite(\n\u001b[0;32m    958\u001b[0m         array,\n\u001b[0;32m    959\u001b[0m         input_name\u001b[38;5;241m=\u001b[39minput_name,\n\u001b[0;32m    960\u001b[0m         estimator_name\u001b[38;5;241m=\u001b[39mestimator_name,\n\u001b[0;32m    961\u001b[0m         allow_nan\u001b[38;5;241m=\u001b[39mforce_all_finite \u001b[38;5;241m==\u001b[39m \u001b[38;5;124m\"\u001b[39m\u001b[38;5;124mallow-nan\u001b[39m\u001b[38;5;124m\"\u001b[39m,\n\u001b[0;32m    962\u001b[0m     )\n",
      "\u001b[1;31mValueError\u001b[0m: Found array with dim 3. LinearRegression expected <= 2."
     ]
    }
   ],
   "source": [
    "import numpy as np\n",
    "from scipy.optimize import fsolve\n",
    "from sklearn.preprocessing import PolynomialFeatures\n",
    "from sklearn.linear_model import LinearRegression\n",
    "\n",
    "# Assuming you have a polynomial regression model named poly_regression_model\n",
    "\n",
    "# Define the polynomial features\n",
    "poly = PolynomialFeatures(degree=2)  # You may need to adjust the degree based on your model\n",
    "\n",
    "# Function to find the roots (where prediction is 0)\n",
    "def equation_to_solve(a):\n",
    "    return poly_regression_model.predict([[a, a]])\n",
    "\n",
    "# Initial guess for 'a'\n",
    "initial_guess = 0.0\n",
    "\n",
    "# Solve the equation\n",
    "solution = fsolve(equation_to_solve, initial_guess)\n",
    "\n",
    "print(\"The value of 'a' for which poly_regression_model.predict([[a, a]]) = 0 is:\", solution)"
   ]
  },
  {
   "cell_type": "code",
   "execution_count": 32,
   "id": "3cfc358a",
   "metadata": {},
   "outputs": [
    {
     "ename": "ValueError",
     "evalue": "operands could not be broadcast together with shapes (32,1) (14,1) ",
     "output_type": "error",
     "traceback": [
      "\u001b[1;31m---------------------------------------------------------------------------\u001b[0m",
      "\u001b[1;31mValueError\u001b[0m                                Traceback (most recent call last)",
      "Cell \u001b[1;32mIn[32], line 1\u001b[0m\n\u001b[1;32m----> 1\u001b[0m \u001b[43mx_train\u001b[49m\u001b[43m \u001b[49m\u001b[38;5;241;43m+\u001b[39;49m\u001b[43m \u001b[49m\u001b[43mx_test\u001b[49m\n",
      "\u001b[1;31mValueError\u001b[0m: operands could not be broadcast together with shapes (32,1) (14,1) "
     ]
    }
   ],
   "source": [
    "x_train + x_test"
   ]
  },
  {
   "cell_type": "code",
   "execution_count": 33,
   "id": "8799c2a5",
   "metadata": {},
   "outputs": [
    {
     "data": {
      "text/plain": [
       "array([[1978],\n",
       "       [1979],\n",
       "       [1980],\n",
       "       [1981],\n",
       "       [1982],\n",
       "       [1983],\n",
       "       [1984],\n",
       "       [1985],\n",
       "       [1986],\n",
       "       [1987],\n",
       "       [1988],\n",
       "       [1989],\n",
       "       [1990],\n",
       "       [1991],\n",
       "       [1992],\n",
       "       [1993],\n",
       "       [1994],\n",
       "       [1995],\n",
       "       [1996],\n",
       "       [1997],\n",
       "       [1998],\n",
       "       [1999],\n",
       "       [2000],\n",
       "       [2001],\n",
       "       [2002],\n",
       "       [2003],\n",
       "       [2004],\n",
       "       [2005],\n",
       "       [2006],\n",
       "       [2007],\n",
       "       [2008],\n",
       "       [2009],\n",
       "       [2010],\n",
       "       [2011],\n",
       "       [2012],\n",
       "       [2013],\n",
       "       [2014],\n",
       "       [2015],\n",
       "       [2016],\n",
       "       [2017],\n",
       "       [2018],\n",
       "       [2019],\n",
       "       [2020],\n",
       "       [2021],\n",
       "       [2022],\n",
       "       [2023]], dtype=int64)"
      ]
     },
     "execution_count": 33,
     "metadata": {},
     "output_type": "execute_result"
    }
   ],
   "source": [
    "np.concatenate((x_train, x_test), axis=0)"
   ]
  },
  {
   "cell_type": "markdown",
   "id": "7ad8829d",
   "metadata": {},
   "source": [
    "## Try with temperature data for xtrain"
   ]
  },
  {
   "cell_type": "code",
   "execution_count": 11,
   "id": "e2b9f7a2",
   "metadata": {},
   "outputs": [],
   "source": [
    "# temperature = pd.read_csv('data/land_ocean_temperature.csv').rename(columns={'Year': 'year'}, inplace=False)\n",
    "# yearly_mean = yearly_mean.merge(temperature, how='left')"
   ]
  },
  {
   "cell_type": "code",
   "execution_count": 12,
   "id": "9190d8cc",
   "metadata": {},
   "outputs": [],
   "source": [
    "# temperature"
   ]
  },
  {
   "cell_type": "code",
   "execution_count": 13,
   "id": "92c6453d",
   "metadata": {},
   "outputs": [],
   "source": [
    "# from sklearn.svm import SVR\n",
    "# from sklearn.model_selection import train_test_split\n",
    "# from sklearn.metrics import mean_absolute_error, mean_squared_error, r2_score\n",
    "# import numpy as np\n",
    "# import matplotlib.pyplot as plt\n",
    "\n",
    "# with_temp = yearly_mean.dropna()\n",
    "# x = with_temp[['year','Lowness (5)']]\n",
    "# y = with_temp[['extent']]\n",
    "\n",
    "# x_train, x_test, y_train, y_test = train_test_split(x, y, test_size=0.3, random_state=1, shuffle=False)\n",
    "\n",
    "# x_train, y_train = np.array(x_train), np.array(y_train)\n",
    "# x_test, y_test = np.array(x_test), np.array(y_test)\n",
    "\n",
    "# # Use Support Vector Regression (SVR) with RBF kernel\n",
    "# model = SVR(kernel='linear')\n",
    "\n",
    "# model.fit(x_train, y_train.ravel())\n",
    "\n",
    "# plt.plot(x['year'], y, color='blue', label='Original Data')\n",
    "\n",
    "# # Plot the SVR predictions\n",
    "# y_pred = model.predict(x_test)\n",
    "# plt.plot(x_test[:, 0], y_pred, color='red', linewidth=3, label='SVR Predicted Line')\n",
    "\n",
    "# plt.xlabel('X')\n",
    "# plt.ylabel('Y')\n",
    "# plt.title('Support Vector Regression (SVR) with RBF Kernel')\n",
    "# plt.legend()\n",
    "# plt.show()\n",
    "\n",
    "# # Calculate Mean Squared Error\n",
    "# mse = mean_squared_error(y_test, y_pred)\n",
    "# print(f'Mean Squared Error: {mse}')\n",
    "\n",
    "# # Calculate Mean Absolute Error\n",
    "# mae = mean_absolute_error(y_test, y_pred)\n",
    "# print(f'Mean Absolute Error: {mae}')\n",
    "\n",
    "# # Calculate R2 Score\n",
    "# r2 = r2_score(y_test, y_pred)\n",
    "# print(f'R2 Score: {r2}')"
   ]
  },
  {
   "cell_type": "code",
   "execution_count": 14,
   "id": "35b0f2dc",
   "metadata": {},
   "outputs": [
    {
     "data": {
      "text/html": [
       "<div>\n",
       "<style scoped>\n",
       "    .dataframe tbody tr th:only-of-type {\n",
       "        vertical-align: middle;\n",
       "    }\n",
       "\n",
       "    .dataframe tbody tr th {\n",
       "        vertical-align: top;\n",
       "    }\n",
       "\n",
       "    .dataframe thead th {\n",
       "        text-align: right;\n",
       "    }\n",
       "</style>\n",
       "<table border=\"1\" class=\"dataframe\">\n",
       "  <thead>\n",
       "    <tr style=\"text-align: right;\">\n",
       "      <th></th>\n",
       "      <th>year</th>\n",
       "    </tr>\n",
       "  </thead>\n",
       "  <tbody>\n",
       "    <tr>\n",
       "      <th>0</th>\n",
       "      <td>1978</td>\n",
       "    </tr>\n",
       "    <tr>\n",
       "      <th>1</th>\n",
       "      <td>1979</td>\n",
       "    </tr>\n",
       "    <tr>\n",
       "      <th>2</th>\n",
       "      <td>1980</td>\n",
       "    </tr>\n",
       "    <tr>\n",
       "      <th>3</th>\n",
       "      <td>1981</td>\n",
       "    </tr>\n",
       "    <tr>\n",
       "      <th>4</th>\n",
       "      <td>1982</td>\n",
       "    </tr>\n",
       "    <tr>\n",
       "      <th>5</th>\n",
       "      <td>1983</td>\n",
       "    </tr>\n",
       "    <tr>\n",
       "      <th>6</th>\n",
       "      <td>1984</td>\n",
       "    </tr>\n",
       "    <tr>\n",
       "      <th>7</th>\n",
       "      <td>1985</td>\n",
       "    </tr>\n",
       "    <tr>\n",
       "      <th>8</th>\n",
       "      <td>1986</td>\n",
       "    </tr>\n",
       "    <tr>\n",
       "      <th>9</th>\n",
       "      <td>1987</td>\n",
       "    </tr>\n",
       "    <tr>\n",
       "      <th>10</th>\n",
       "      <td>1988</td>\n",
       "    </tr>\n",
       "    <tr>\n",
       "      <th>11</th>\n",
       "      <td>1989</td>\n",
       "    </tr>\n",
       "    <tr>\n",
       "      <th>12</th>\n",
       "      <td>1990</td>\n",
       "    </tr>\n",
       "    <tr>\n",
       "      <th>13</th>\n",
       "      <td>1991</td>\n",
       "    </tr>\n",
       "    <tr>\n",
       "      <th>14</th>\n",
       "      <td>1992</td>\n",
       "    </tr>\n",
       "    <tr>\n",
       "      <th>15</th>\n",
       "      <td>1993</td>\n",
       "    </tr>\n",
       "    <tr>\n",
       "      <th>16</th>\n",
       "      <td>1994</td>\n",
       "    </tr>\n",
       "    <tr>\n",
       "      <th>17</th>\n",
       "      <td>1995</td>\n",
       "    </tr>\n",
       "    <tr>\n",
       "      <th>18</th>\n",
       "      <td>1996</td>\n",
       "    </tr>\n",
       "    <tr>\n",
       "      <th>19</th>\n",
       "      <td>1997</td>\n",
       "    </tr>\n",
       "    <tr>\n",
       "      <th>20</th>\n",
       "      <td>1998</td>\n",
       "    </tr>\n",
       "    <tr>\n",
       "      <th>21</th>\n",
       "      <td>1999</td>\n",
       "    </tr>\n",
       "    <tr>\n",
       "      <th>22</th>\n",
       "      <td>2000</td>\n",
       "    </tr>\n",
       "    <tr>\n",
       "      <th>23</th>\n",
       "      <td>2001</td>\n",
       "    </tr>\n",
       "    <tr>\n",
       "      <th>24</th>\n",
       "      <td>2002</td>\n",
       "    </tr>\n",
       "    <tr>\n",
       "      <th>25</th>\n",
       "      <td>2003</td>\n",
       "    </tr>\n",
       "    <tr>\n",
       "      <th>26</th>\n",
       "      <td>2004</td>\n",
       "    </tr>\n",
       "    <tr>\n",
       "      <th>27</th>\n",
       "      <td>2005</td>\n",
       "    </tr>\n",
       "    <tr>\n",
       "      <th>28</th>\n",
       "      <td>2006</td>\n",
       "    </tr>\n",
       "    <tr>\n",
       "      <th>29</th>\n",
       "      <td>2007</td>\n",
       "    </tr>\n",
       "    <tr>\n",
       "      <th>30</th>\n",
       "      <td>2008</td>\n",
       "    </tr>\n",
       "    <tr>\n",
       "      <th>31</th>\n",
       "      <td>2009</td>\n",
       "    </tr>\n",
       "    <tr>\n",
       "      <th>32</th>\n",
       "      <td>2010</td>\n",
       "    </tr>\n",
       "    <tr>\n",
       "      <th>33</th>\n",
       "      <td>2011</td>\n",
       "    </tr>\n",
       "    <tr>\n",
       "      <th>34</th>\n",
       "      <td>2012</td>\n",
       "    </tr>\n",
       "    <tr>\n",
       "      <th>35</th>\n",
       "      <td>2013</td>\n",
       "    </tr>\n",
       "    <tr>\n",
       "      <th>36</th>\n",
       "      <td>2014</td>\n",
       "    </tr>\n",
       "    <tr>\n",
       "      <th>37</th>\n",
       "      <td>2015</td>\n",
       "    </tr>\n",
       "    <tr>\n",
       "      <th>38</th>\n",
       "      <td>2016</td>\n",
       "    </tr>\n",
       "    <tr>\n",
       "      <th>39</th>\n",
       "      <td>2017</td>\n",
       "    </tr>\n",
       "    <tr>\n",
       "      <th>40</th>\n",
       "      <td>2018</td>\n",
       "    </tr>\n",
       "    <tr>\n",
       "      <th>41</th>\n",
       "      <td>2019</td>\n",
       "    </tr>\n",
       "    <tr>\n",
       "      <th>42</th>\n",
       "      <td>2020</td>\n",
       "    </tr>\n",
       "    <tr>\n",
       "      <th>43</th>\n",
       "      <td>2021</td>\n",
       "    </tr>\n",
       "    <tr>\n",
       "      <th>44</th>\n",
       "      <td>2022</td>\n",
       "    </tr>\n",
       "    <tr>\n",
       "      <th>45</th>\n",
       "      <td>2023</td>\n",
       "    </tr>\n",
       "  </tbody>\n",
       "</table>\n",
       "</div>"
      ],
      "text/plain": [
       "    year\n",
       "0   1978\n",
       "1   1979\n",
       "2   1980\n",
       "3   1981\n",
       "4   1982\n",
       "5   1983\n",
       "6   1984\n",
       "7   1985\n",
       "8   1986\n",
       "9   1987\n",
       "10  1988\n",
       "11  1989\n",
       "12  1990\n",
       "13  1991\n",
       "14  1992\n",
       "15  1993\n",
       "16  1994\n",
       "17  1995\n",
       "18  1996\n",
       "19  1997\n",
       "20  1998\n",
       "21  1999\n",
       "22  2000\n",
       "23  2001\n",
       "24  2002\n",
       "25  2003\n",
       "26  2004\n",
       "27  2005\n",
       "28  2006\n",
       "29  2007\n",
       "30  2008\n",
       "31  2009\n",
       "32  2010\n",
       "33  2011\n",
       "34  2012\n",
       "35  2013\n",
       "36  2014\n",
       "37  2015\n",
       "38  2016\n",
       "39  2017\n",
       "40  2018\n",
       "41  2019\n",
       "42  2020\n",
       "43  2021\n",
       "44  2022\n",
       "45  2023"
      ]
     },
     "execution_count": 14,
     "metadata": {},
     "output_type": "execute_result"
    }
   ],
   "source": [
    "x"
   ]
  },
  {
   "cell_type": "code",
   "execution_count": 15,
   "id": "da95e7c5",
   "metadata": {},
   "outputs": [],
   "source": [
    "# x_test"
   ]
  },
  {
   "cell_type": "code",
   "execution_count": 16,
   "id": "30992cac",
   "metadata": {},
   "outputs": [],
   "source": [
    "# y"
   ]
  },
  {
   "cell_type": "code",
   "execution_count": null,
   "id": "52478c8e",
   "metadata": {},
   "outputs": [],
   "source": []
  }
 ],
 "metadata": {
  "kernelspec": {
   "display_name": "tf",
   "language": "python",
   "name": "tf"
  },
  "language_info": {
   "codemirror_mode": {
    "name": "ipython",
    "version": 3
   },
   "file_extension": ".py",
   "mimetype": "text/x-python",
   "name": "python",
   "nbconvert_exporter": "python",
   "pygments_lexer": "ipython3",
   "version": "3.9.18"
  }
 },
 "nbformat": 4,
 "nbformat_minor": 5
}
